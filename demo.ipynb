{
 "cells": [
  {
   "cell_type": "code",
   "execution_count": 9,
   "id": "9bbcd1c2",
   "metadata": {
    "pycharm": {
     "name": "#%%\n"
    },
    "tags": []
   },
   "outputs": [
    {
     "ename": "ImportError",
     "evalue": "cannot import name 'Pricer' from 'rs_pricing' (unknown location)",
     "output_type": "error",
     "traceback": [
      "\u001b[0;31m---------------------------------------------------------------------------\u001b[0m",
      "\u001b[0;31mImportError\u001b[0m                               Traceback (most recent call last)",
      "Cell \u001b[0;32mIn[9], line 2\u001b[0m\n\u001b[1;32m      1\u001b[0m \u001b[38;5;28;01mfrom\u001b[39;00m \u001b[38;5;21;01mscip_routing\u001b[39;00m\u001b[38;5;21;01m.\u001b[39;00m\u001b[38;5;21;01mcompact\u001b[39;00m \u001b[38;5;28;01mimport\u001b[39;00m solve_compact\n\u001b[0;32m----> 2\u001b[0m \u001b[38;5;28;01mfrom\u001b[39;00m \u001b[38;5;21;01mscip_routing\u001b[39;00m\u001b[38;5;21;01m.\u001b[39;00m\u001b[38;5;21;01msolver\u001b[39;00m \u001b[38;5;28;01mimport\u001b[39;00m solve_colgen\n\u001b[1;32m      3\u001b[0m \u001b[38;5;28;01mfrom\u001b[39;00m \u001b[38;5;21;01mscip_routing\u001b[39;00m\u001b[38;5;21;01m.\u001b[39;00m\u001b[38;5;21;01mutils\u001b[39;00m \u001b[38;5;28;01mimport\u001b[39;00m minify_instance, instance_graph\n\u001b[1;32m      4\u001b[0m \u001b[38;5;28;01mimport\u001b[39;00m \u001b[38;5;21;01mcvrplib\u001b[39;00m\n",
      "File \u001b[0;32m~/projects/scip-routing-main/scip_routing/solver.py:7\u001b[0m\n\u001b[1;32m      5\u001b[0m \u001b[38;5;28;01mfrom\u001b[39;00m \u001b[38;5;21;01mscip_routing\u001b[39;00m\u001b[38;5;21;01m.\u001b[39;00m\u001b[38;5;21;01medge_brancher\u001b[39;00m \u001b[38;5;28;01mimport\u001b[39;00m EdgeBrancher\n\u001b[1;32m      6\u001b[0m \u001b[38;5;28;01mfrom\u001b[39;00m \u001b[38;5;21;01mscip_routing\u001b[39;00m\u001b[38;5;21;01m.\u001b[39;00m\u001b[38;5;21;01medge_branching_eventhdlr\u001b[39;00m \u001b[38;5;28;01mimport\u001b[39;00m EdgeBranchingEventhdlr\n\u001b[0;32m----> 7\u001b[0m \u001b[38;5;28;01mfrom\u001b[39;00m \u001b[38;5;21;01mscip_routing\u001b[39;00m\u001b[38;5;21;01m.\u001b[39;00m\u001b[38;5;21;01mpricing\u001b[39;00m \u001b[38;5;28;01mimport\u001b[39;00m Pricer\n\u001b[1;32m     10\u001b[0m \u001b[38;5;28;01mdef\u001b[39;00m \u001b[38;5;21msolve_colgen\u001b[39m(graph, instance, verbosity\u001b[38;5;241m=\u001b[39m\u001b[38;5;241m0\u001b[39m, distance_fn\u001b[38;5;241m=\u001b[39m\u001b[38;5;28;01mNone\u001b[39;00m, pricing_strategy\u001b[38;5;241m=\u001b[39m\u001b[38;5;124m\"\u001b[39m\u001b[38;5;124mpy\u001b[39m\u001b[38;5;124m\"\u001b[39m):\n\u001b[1;32m     11\u001b[0m     solver \u001b[38;5;241m=\u001b[39m VRPTWSolver(graph, instance, verbosity\u001b[38;5;241m=\u001b[39mverbosity, distance_fn\u001b[38;5;241m=\u001b[39mdistance_fn,\n\u001b[1;32m     12\u001b[0m                          pricing_strategy\u001b[38;5;241m=\u001b[39mpricing_strategy)\n",
      "File \u001b[0;32m~/projects/scip-routing-main/scip_routing/pricing.py:7\u001b[0m\n\u001b[1;32m      5\u001b[0m \u001b[38;5;66;03m# from pyscipopt import Model, Pricer, SCIP_RESULT, SCIP_PARAMSETTING, quicksum\u001b[39;00m\n\u001b[1;32m      6\u001b[0m \u001b[38;5;28;01mimport\u001b[39;00m \u001b[38;5;21;01mpyscipopt\u001b[39;00m \u001b[38;5;28;01mas\u001b[39;00m \u001b[38;5;21;01mscip\u001b[39;00m\n\u001b[0;32m----> 7\u001b[0m \u001b[38;5;28;01mfrom\u001b[39;00m \u001b[38;5;21;01mrs_pricing\u001b[39;00m \u001b[38;5;28;01mimport\u001b[39;00m Pricer \u001b[38;5;28;01mas\u001b[39;00m RustPricer\n\u001b[1;32m     10\u001b[0m \u001b[38;5;28;01mclass\u001b[39;00m \u001b[38;5;21;01mLabel\u001b[39;00m:\n\u001b[1;32m     11\u001b[0m     \u001b[38;5;28;01mdef\u001b[39;00m \u001b[38;5;21m__init__\u001b[39m(\u001b[38;5;28mself\u001b[39m, last_node, cost, demand, earliest_time, last_label, visited\u001b[38;5;241m=\u001b[39m\u001b[38;5;28;01mNone\u001b[39;00m):\n",
      "\u001b[0;31mImportError\u001b[0m: cannot import name 'Pricer' from 'rs_pricing' (unknown location)"
     ]
    }
   ],
   "source": [
    "from scip_routing.compact import solve_compact\n",
    "from scip_routing.solver import solve_colgen\n",
    "from scip_routing.utils import minify_instance, instance_graph\n",
    "import cvrplib\n",
    "import matplotlib.pyplot as plt\n",
    "from IPython import display\n",
    "import time"
   ]
  },
  {
   "cell_type": "code",
   "execution_count": 10,
   "id": "153beff4-d045-4396-ae7c-94308d8aa979",
   "metadata": {
    "pycharm": {
     "name": "#%%\n"
    },
    "tags": []
   },
   "outputs": [],
   "source": [
    "%matplotlib inline\n",
    "def demo(solving_fn, max_nodes=40):\n",
    "    current_results = {\"nodes\": [], \"time\": []}\n",
    "    instance, sol = cvrplib.download('R101', solution=True)\n",
    "\n",
    "    for i in range(1, max_nodes):\n",
    "        # load instance\n",
    "        mini_instance = minify_instance(instance, i)\n",
    "        graph = instance_graph(mini_instance)\n",
    "\n",
    "        # solve \n",
    "        model = solving_fn(graph, instance=mini_instance, verbosity=0)\n",
    "\n",
    "\n",
    "        # plot results\n",
    "        current_results[\"nodes\"].append(i)\n",
    "        current_results[\"time\"].append(model.getSolvingTime())\n",
    "\n",
    "\n",
    "        plt.plot(current_results[\"nodes\"], current_results[\"time\"])\n",
    "        plt.show()\n",
    "\n",
    "        if i < max_nodes-1:\n",
    "            display.display(plt.gcf())    \n",
    "            display.clear_output(wait=True)"
   ]
  },
  {
   "cell_type": "code",
   "execution_count": 11,
   "id": "b0766f0c-32ff-4a1f-bc93-4243b4576e7a",
   "metadata": {
    "pycharm": {
     "name": "#%%\n"
    },
    "tags": []
   },
   "outputs": [
    {
     "ename": "NameError",
     "evalue": "name 'solve_colgen' is not defined",
     "output_type": "error",
     "traceback": [
      "\u001b[0;31m---------------------------------------------------------------------------\u001b[0m",
      "\u001b[0;31mNameError\u001b[0m                                 Traceback (most recent call last)",
      "Cell \u001b[0;32mIn[11], line 2\u001b[0m\n\u001b[1;32m      1\u001b[0m get_ipython()\u001b[38;5;241m.\u001b[39mrun_line_magic(\u001b[38;5;124m'\u001b[39m\u001b[38;5;124mmatplotlib\u001b[39m\u001b[38;5;124m'\u001b[39m, \u001b[38;5;124m'\u001b[39m\u001b[38;5;124minline\u001b[39m\u001b[38;5;124m'\u001b[39m)\n\u001b[0;32m----> 2\u001b[0m demo(\u001b[43msolve_colgen\u001b[49m)\n",
      "\u001b[0;31mNameError\u001b[0m: name 'solve_colgen' is not defined"
     ]
    }
   ],
   "source": [
    "%matplotlib inline\n",
    "demo(solve_colgen)"
   ]
  },
  {
   "cell_type": "code",
   "execution_count": 12,
   "id": "6b632289-f932-45f9-b14e-29b56db5504e",
   "metadata": {
    "pycharm": {
     "name": "#%%\n"
    },
    "tags": []
   },
   "outputs": [
    {
     "ename": "NameError",
     "evalue": "name 'cvrplib' is not defined",
     "output_type": "error",
     "traceback": [
      "\u001b[0;31m---------------------------------------------------------------------------\u001b[0m",
      "\u001b[0;31mNameError\u001b[0m                                 Traceback (most recent call last)",
      "Cell \u001b[0;32mIn[12], line 2\u001b[0m\n\u001b[1;32m      1\u001b[0m get_ipython()\u001b[38;5;241m.\u001b[39mrun_line_magic(\u001b[38;5;124m'\u001b[39m\u001b[38;5;124mmatplotlib\u001b[39m\u001b[38;5;124m'\u001b[39m, \u001b[38;5;124m'\u001b[39m\u001b[38;5;124minline\u001b[39m\u001b[38;5;124m'\u001b[39m)\n\u001b[0;32m----> 2\u001b[0m \u001b[43mdemo\u001b[49m\u001b[43m(\u001b[49m\u001b[43msolve_compact\u001b[49m\u001b[43m)\u001b[49m\n",
      "Cell \u001b[0;32mIn[10], line 4\u001b[0m, in \u001b[0;36mdemo\u001b[0;34m(solving_fn, max_nodes)\u001b[0m\n\u001b[1;32m      2\u001b[0m \u001b[38;5;28;01mdef\u001b[39;00m \u001b[38;5;21mdemo\u001b[39m(solving_fn, max_nodes\u001b[38;5;241m=\u001b[39m\u001b[38;5;241m40\u001b[39m):\n\u001b[1;32m      3\u001b[0m     current_results \u001b[38;5;241m=\u001b[39m {\u001b[38;5;124m\"\u001b[39m\u001b[38;5;124mnodes\u001b[39m\u001b[38;5;124m\"\u001b[39m: [], \u001b[38;5;124m\"\u001b[39m\u001b[38;5;124mtime\u001b[39m\u001b[38;5;124m\"\u001b[39m: []}\n\u001b[0;32m----> 4\u001b[0m     instance, sol \u001b[38;5;241m=\u001b[39m \u001b[43mcvrplib\u001b[49m\u001b[38;5;241m.\u001b[39mdownload(\u001b[38;5;124m'\u001b[39m\u001b[38;5;124mR101\u001b[39m\u001b[38;5;124m'\u001b[39m, solution\u001b[38;5;241m=\u001b[39m\u001b[38;5;28;01mTrue\u001b[39;00m)\n\u001b[1;32m      6\u001b[0m     \u001b[38;5;28;01mfor\u001b[39;00m i \u001b[38;5;129;01min\u001b[39;00m \u001b[38;5;28mrange\u001b[39m(\u001b[38;5;241m1\u001b[39m, max_nodes):\n\u001b[1;32m      7\u001b[0m         \u001b[38;5;66;03m# load instance\u001b[39;00m\n\u001b[1;32m      8\u001b[0m         mini_instance \u001b[38;5;241m=\u001b[39m minify_instance(instance, i)\n",
      "\u001b[0;31mNameError\u001b[0m: name 'cvrplib' is not defined"
     ]
    }
   ],
   "source": [
    "%matplotlib inline\n",
    "demo(solve_compact)"
   ]
  },
  {
   "cell_type": "code",
   "execution_count": null,
   "id": "485a0ddb-ee86-4a8f-835e-25a1c47567c7",
   "metadata": {
    "pycharm": {
     "name": "#%%\n"
    }
   },
   "outputs": [],
   "source": []
  }
 ],
 "metadata": {
  "kernelspec": {
   "display_name": "Python 3 (ipykernel)",
   "language": "python",
   "name": "python3"
  },
  "language_info": {
   "codemirror_mode": {
    "name": "ipython",
    "version": 3
   },
   "file_extension": ".py",
   "mimetype": "text/x-python",
   "name": "python",
   "nbconvert_exporter": "python",
   "pygments_lexer": "ipython3",
   "version": "3.10.12"
  },
  "vscode": {
   "interpreter": {
    "hash": "b76a091bc240775a6de32e889d026ce4c320ff213e53484b9a9005c2e7f35318"
   }
  }
 },
 "nbformat": 4,
 "nbformat_minor": 5
}
